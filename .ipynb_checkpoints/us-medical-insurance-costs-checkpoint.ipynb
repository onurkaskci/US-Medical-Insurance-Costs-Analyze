{
 "cells": [
  {
   "cell_type": "markdown",
   "metadata": {},
   "source": [
    "# U.S. Medical Insurance Costs"
   ]
  },
  {
   "cell_type": "code",
   "execution_count": null,
   "metadata": {},
   "outputs": [],
   "source": [
    "import csv"
   ]
  },
  {
   "cell_type": "code",
   "execution_count": null,
   "metadata": {},
   "outputs": [],
   "source": [
    "with open(\"insurance.csv\") as database:\n",
    "    reader = csv.DictReader(database)\n",
    "    count = 0\n",
    "    for row in reader:\n",
    "        print(row)\n",
    "        count += 1\n",
    "    print(f\"There are {count} entries in database\")    "
   ]
  },
  {
   "cell_type": "markdown",
   "metadata": {},
   "source": [
    "<h3>The above cell reads the \"insurance.csv\" file with csv.DictReader, which prints all the data as a value and keys are the titles of the data. Same process can be done with csv.reader but it returns a list only with data in it and its hard to see which data is which.</h3>"
   ]
  },
  {
   "cell_type": "code",
   "execution_count": null,
   "metadata": {},
   "outputs": [],
   "source": [
    "def extract_values(data_file, data_dict):\n",
    "    age_list = []\n",
    "    sex_list = []\n",
    "    bmi_list = []\n",
    "    children_list = []\n",
    "    smoker_list = []\n",
    "    region_list = []\n",
    "    charges_list = []\n",
    "    \n",
    "    \n",
    "    with open(data_file) as database:\n",
    "        reader = csv.DictReader(database)\n",
    "        for row in reader:\n",
    "            age_list.append(row[\"age\"])\n",
    "            sex_list.append(row[\"sex\"])\n",
    "            bmi_list.append(row[\"bmi\"])\n",
    "            children_list.append(row[\"children\"])\n",
    "            smoker_list.append(row[\"smoker\"])\n",
    "            region_list.append(row[\"region\"])\n",
    "            charges_list.append(row[\"charges\"])\n",
    "            \n",
    "    if type(data_dict) == dict:\n",
    "        data_dict[\"age\"] = age_list\n",
    "        data_dict[\"sex\"] = sex_list\n",
    "        data_dict[\"bmi\"] = bmi_list \n",
    "        data_dict[\"children\"] = children_list\n",
    "        data_dict[\"smoker\"] = smoker_list\n",
    "        data_dict[\"region\"] = region_list\n",
    "        data_dict[\"charges\"] = charges_list\n",
    "        return data_dict \n",
    "    else:\n",
    "        return(\"Please pass a dictionary as second variable\")        "
   ]
  },
  {
   "cell_type": "code",
   "execution_count": null,
   "metadata": {
    "scrolled": true
   },
   "outputs": [],
   "source": [
    "data_dictionary = {}\n",
    "print(extract_values(\"insurance.csv\", data_dictionary))\n"
   ]
  },
  {
   "cell_type": "markdown",
   "metadata": {},
   "source": [
    "<h3>The above cell is a function to extract the values to a dictionary which every key keeps the values in a list. This is helpful to perform with same values together.</h3>"
   ]
  },
  {
   "cell_type": "code",
   "execution_count": null,
   "metadata": {},
   "outputs": [],
   "source": [
    "def arithmetic_mean(data, round_digits=3):\n",
    "    total = 0\n",
    "    for val in data:\n",
    "        try:\n",
    "            val = float(val)\n",
    "            total += val\n",
    "        except ValueError:\n",
    "            return(\"Data is not a NUMBER\")\n",
    "            break\n",
    "            \n",
    "    mean = total/len(data)\n",
    "    return round(mean, round_digits)"
   ]
  },
  {
   "cell_type": "code",
   "execution_count": null,
   "metadata": {
    "scrolled": false
   },
   "outputs": [],
   "source": [
    "print(arithmetic_mean(data_dictionary[\"charges\"], 5))"
   ]
  },
  {
   "cell_type": "markdown",
   "metadata": {},
   "source": [
    "<h3>Above cell gets the arithmetic mean of a key inside the main data dictionary if the key passed contains numbers(float or integer). If the key passed in the function does not contain any numbers then code lets you know you passed a key without numbers.</h3>"
   ]
  },
  {
   "cell_type": "code",
   "execution_count": null,
   "metadata": {},
   "outputs": [],
   "source": [
    "user_list = []\n",
    "\n",
    "def make_list(data_dict=data_dictionary, list_to_return=user_list):\n",
    "    for key, val in data_dict.items():\n",
    "        for i in range(len(val)):\n",
    "            list_to_return.append([data_dict[\"age\"][i], data_dict[\"sex\"][i], data_dict[\"bmi\"][i], data_dict[\"children\"][i], data_dict[\"smoker\"][i], data_dict[\"region\"][i], data_dict[\"charges\"][i]])\n",
    "\n",
    "    return list(list_to_return)        "
   ]
  },
  {
   "cell_type": "code",
   "execution_count": null,
   "metadata": {
    "scrolled": true
   },
   "outputs": [],
   "source": [
    "print(make_list())"
   ]
  },
  {
   "cell_type": "markdown",
   "metadata": {},
   "source": [
    "<h3>Above cells turns the whole data which was seperated by columns to nested lists which every nested list contains an individual user data.</h3>"
   ]
  },
  {
   "cell_type": "code",
   "execution_count": null,
   "metadata": {},
   "outputs": [],
   "source": [
    "smoker_list = []\n",
    "non_smoker_list = []\n",
    "print(len(user_list))\n",
    "for data in user_list:\n",
    "    #print(data)\n",
    "    if data[4] == \"yes\":\n",
    "        smoker_list.append(data)\n",
    "    elif data[4] == \"no\":\n",
    "        non_smoker_list.append(data)\n",
    "print(len(smoker_list), len(non_smoker_list))\n",
    "print(smoker_list)"
   ]
  },
  {
   "cell_type": "code",
   "execution_count": null,
   "metadata": {},
   "outputs": [],
   "source": [
    "# smoker_charge = []\n",
    "# non_smoker_charge = []\n",
    "\n",
    "# for sublist in smoker_list:\n",
    "#     smoker_charge.append(sublist[-1])\n",
    "# for sublist in non_smoker_list:\n",
    "#     non_smoker_charge.append(sublist[-1])\n",
    "\n",
    "# #print(smoker_charge)\n",
    "# #print(non_smoker_charge)\n",
    "\n",
    "# print(arithmetic_mean(smoker_charge) - arithmetic_mean(non_smoker_charge))\n",
    "\n",
    "def smoking_effect(list1=smoker_list, list2=non_smoker_list):\n",
    "    smoker_charge = []\n",
    "    non_smoker_charge = []\n",
    "    \n",
    "    for sublist in list1:\n",
    "        smoker_charge.append(sublist[-1])\n",
    "    for sublist in list2:\n",
    "        non_smoker_charge.append(sublist[-1])\n",
    "        \n",
    "    return arithmetic_mean(smoker_charge) - arithmetic_mean(non_smoker_charge)   "
   ]
  },
  {
   "cell_type": "markdown",
   "metadata": {},
   "source": [
    "<h3>Above code prints the average price difference between smokers and non smokers.</h3>"
   ]
  },
  {
   "cell_type": "code",
   "execution_count": null,
   "metadata": {},
   "outputs": [],
   "source": [
    "print(smoking_effect())"
   ]
  },
  {
   "cell_type": "code",
   "execution_count": null,
   "metadata": {},
   "outputs": [],
   "source": [
    "def avg_parent_age(data=data_dictionary):\n",
    "    age_list = []\n",
    "\n",
    "    make_list(list_to_return=age_list)\n",
    "    parent_age_total = []\n",
    "\n",
    "    for client in age_list:\n",
    "        client_children = int(client[3])\n",
    "        if client_children != 0:\n",
    "            parent_age_total.append(int(client[0]))\n",
    "        \n",
    "    return arithmetic_mean(parent_age_total)     "
   ]
  },
  {
   "cell_type": "markdown",
   "metadata": {},
   "source": [
    "<h3>Above cell defines a function to get the average age of every client with at least one children.</h3>"
   ]
  },
  {
   "cell_type": "code",
   "execution_count": null,
   "metadata": {},
   "outputs": [],
   "source": [
    "def region_analysis(data=data_dictionary):\n",
    "    region_list = data[\"region\"]\n",
    "    region_counts = {}\n",
    "    region_count_list = []\n",
    "\n",
    "    individual_regions = list(set(data[\"region\"])) #this line of code helps to identify every individual element in region list\n",
    "\n",
    "    for region in individual_regions:\n",
    "        region_counts[region] = region_list.count(region)\n",
    "\n",
    "    #print(region_counts)\n",
    "\n",
    "    for key, val in region_counts.items():\n",
    "        region_count_list.append([val, key])\n",
    "\n",
    "    region_count_list.sort(reverse=True)\n",
    "\n",
    "    major_region_number = region_count_list[0][0]\n",
    "    major_region_name = region_count_list[0][1]\n",
    "\n",
    "    minor_region_number = region_count_list[-1][0]\n",
    "    minor_region_name = region_count_list[-1][1]\n",
    "\n",
    "    return (f\"Major client region is {major_region_name} with {major_region_number} applicants. Minor client region is {minor_region_name} with {minor_region_number} applicants.\")\n",
    "\n",
    "region_analysis()"
   ]
  },
  {
   "cell_type": "markdown",
   "metadata": {},
   "source": [
    "<h3>Above cell provides information about major and minor client areas.</h3>"
   ]
  },
  {
   "cell_type": "code",
   "execution_count": null,
   "metadata": {},
   "outputs": [],
   "source": [
    "def avg_age(data=data_dictionary):\n",
    "    return arithmetic_mean(data[\"age\"])\n",
    "\n",
    "avg_age()"
   ]
  },
  {
   "cell_type": "code",
   "execution_count": null,
   "metadata": {},
   "outputs": [],
   "source": [
    "def over_average_analysis(data=data_dictionary, data_l=data_list):\n",
    "    data_list = []\n",
    "    make_list(list_to_return=data_list)\n",
    "\n",
    "    over_avg_check_dict = {\"Children\": 0, \"Bmi\": 0, \"Age\": 0, \"Smoker\": 0}\n",
    "    under_avg_check_dict = {\"Children\": 0, \"Bmi\": 0, \"Age\": 0, \"Smoker\": 0}\n",
    "    \n",
    "    \n",
    "    avg_age = arithmetic_mean(data[\"age\"])\n",
    "    avg_bmi = arithmetic_mean(data[\"bmi\"])\n",
    "    avg_children = arithmetic_mean(data[\"children\"])\n",
    "    avg_charges = arithmetic_mean(data[\"charges\"])\n",
    "    \n",
    "    for client in data_l:\n",
    "        client_age = int(client[0])\n",
    "        client_bmi = float(client[2])\n",
    "        client_children = int(client[3])\n",
    "        client_smoke = client[4]\n",
    "        client_charge = float(client[-1])\n",
    "        \n",
    "        if client_charge > avg_charges: #comparing some data against each other for all clients who got over average charges such as smoking status, bmi or age etc.\n",
    "        \n",
    "            if client_age > avg_age:\n",
    "                over_avg_check_dict[\"Age\"] += 1\n",
    "            elif client_age < avg_age:\n",
    "                under_avg_check_dict[\"Age\"] += 1\n",
    "\n",
    "            if client_bmi > avg_bmi:\n",
    "                over_avg_check_dict[\"Bmi\"] += 1\n",
    "            elif client_bmi < avg_bmi:\n",
    "                under_avg_check_dict[\"Bmi\"] += 1\n",
    "\n",
    "            if client_children > avg_children:\n",
    "                over_avg_check_dict[\"Children\"] += 1\n",
    "            elif client_children < avg_children:\n",
    "                under_avg_check_dict[\"Children\"] += 1\n",
    "\n",
    "            if client_smoke == \"yes\":\n",
    "                over_avg_check_dict[\"Smoker\"] += 1\n",
    "            elif client_smoke == \"no\":\n",
    "                under_avg_check_dict[\"Smoker\"] += 1\n",
    "            \n",
    "        children_analysis_o = \"\"\n",
    "        if over_avg_check_dict[\"Children\"] > under_avg_check_dict[\"Children\"]:\n",
    "            children_analysis_o = \"People with over average charges have MORE CHILDREN than average.\"\n",
    "        elif over_avg_check_dict[\"Children\"] < under_avg_check_dict[\"Children\"]:\n",
    "            children_analysis_o = \"People with over average charges have LESS CHILDREN than average.\"\n",
    "        \n",
    "        bmi_analysis_o = \"\"\n",
    "        if over_avg_check_dict[\"Bmi\"] > under_avg_check_dict[\"Bmi\"]:\n",
    "            bmi_analysis_o = \"People with over average charges have MORE BMI than average.\"\n",
    "        elif over_avg_check_dict[\"Bmi\"] < under_avg_check_dict[\"Bmi\"]:\n",
    "            bmi_analysis_o = \"People with over average charges have LESS BMI than average.\"\n",
    "            \n",
    "        age_analysis_o = \"\"\n",
    "        if over_avg_check_dict[\"Age\"] > under_avg_check_dict[\"Age\"]:\n",
    "            age_analysis_o = \"People with over average charges are OLDER than average.\"\n",
    "        elif over_avg_check_dict[\"Age\"] < under_avg_check_dict[\"Age\"]:\n",
    "            age_analysis_o = \"People with over average charges are YOUNGER than average.\"  \n",
    "            \n",
    "        smoker_analysis_o = \"\"\n",
    "        if over_avg_check_dict[\"Smoker\"] > under_avg_check_dict[\"Smoker\"]:\n",
    "            smoker_analysis_o = \"People with over average charges are SMOKERS.\"\n",
    "        elif over_avg_check_dict[\"Smoker\"] < under_avg_check_dict[\"Smoker\"]:\n",
    "            smoker_analysis_o = \"People with over average charges have NOT SMOKERS.\"\n",
    "    \n",
    "              \n",
    "    print(children_analysis_o + \"\\n\" + bmi_analysis_o + \"\\n\" + age_analysis_o + \"\\n\" + smoker_analysis_o)\n",
    "\n",
    "over_average_analysis()"
   ]
  },
  {
   "cell_type": "markdown",
   "metadata": {},
   "source": [
    "<h3>Above cell compares \"children\", \"bmi\", \"age\" and \"smoker\" data for clients with over average charges.</h3>"
   ]
  },
  {
   "cell_type": "markdown",
   "metadata": {},
   "source": [
    "<p>This was a portfolio project as part of Codecademy's \"Data Analyst\" career path. Made by Onur Kaşıkçı, this was my second coding attempt except basic coding challenges on Codewars and Hackerrank so for any suggestions and improvements hit me up on onurka.46@gmail.com or on Discord --> onurkasikci. <p>"
   ]
  }
 ],
 "metadata": {
  "kernelspec": {
   "display_name": "Python 3 (ipykernel)",
   "language": "python",
   "name": "python3"
  },
  "language_info": {
   "codemirror_mode": {
    "name": "ipython",
    "version": 3
   },
   "file_extension": ".py",
   "mimetype": "text/x-python",
   "name": "python",
   "nbconvert_exporter": "python",
   "pygments_lexer": "ipython3",
   "version": "3.9.7"
  }
 },
 "nbformat": 4,
 "nbformat_minor": 4
}
